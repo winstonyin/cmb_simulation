{
 "cells": [
  {
   "cell_type": "code",
   "execution_count": 2,
   "metadata": {},
   "outputs": [],
   "source": [
    "from cmb_simulation import *\n",
    "from kymatio.numpy import Scattering2D\n",
    "import plotly.express as px\n",
    "import pandas as pd"
   ]
  },
  {
   "cell_type": "code",
   "execution_count": 3,
   "metadata": {},
   "outputs": [],
   "source": [
    "# getCambSpectra\n",
    "powers = getCambSpectra()"
   ]
  },
  {
   "cell_type": "code",
   "execution_count": 4,
   "metadata": {},
   "outputs": [],
   "source": [
    "d = 1/60/180*np.pi\n",
    "N = 512\n",
    "cmb = CMBSpectra(powers)\n",
    "teb = cmb.generatePrimordialMaps(d, N)\n",
    "p = cmb.generateLensingPotential(d, N)\n",
    "teb_len = lensTEB(teb, p, lensTaylorNearest)\n",
    "detector = Detector(*cmb_s4_params)"
   ]
  },
  {
   "cell_type": "code",
   "execution_count": 5,
   "metadata": {},
   "outputs": [],
   "source": [
    "J = 8 # 2^J <= 512\n",
    "N = 512\n",
    "S = Scattering2D(J, (N, N), out_type='list')"
   ]
  },
  {
   "cell_type": "code",
   "execution_count": 6,
   "metadata": {},
   "outputs": [],
   "source": [
    "def qeCircularStrings(teb, A, r, n, lmin, lmax, lensed=True):\n",
    "    N = teb.N\n",
    "    a = CMBMap(d, N, real=rotationFromCircularStrings(N, A, r, n))\n",
    "    teb_rot = rotateTEB(teb, a)\n",
    "    teb_rot_obs = detector.addNoise(teb_rot)\n",
    "    qe_rot = RotationEstimator(cmb, teb_rot_obs, detector, lensed=lensed)\n",
    "    qe_rot_EB = qe_rot.evaluateQE('EB', lmin, lmax) # generalise this\n",
    "    return qe_rot_EB"
   ]
  },
  {
   "cell_type": "code",
   "execution_count": 7,
   "metadata": {},
   "outputs": [],
   "source": [
    "# j1 < j2\n",
    "# average over thetas, average over real map pixels, plot ln(s2/s1) as a function of j2 for each j1\n",
    "\n",
    "def reducedCoef(Sx):\n",
    "    '''\n",
    "    Sx : list of dicts\n",
    "        Output of Scattering2D in list mode, applied to a real map\n",
    "    '''\n",
    "    # collect all unique j\n",
    "    # make temp array for each unique j\n",
    "    # average into a single reduced coef\n",
    "    uniq_j1 = set([sx['j'] for sx in Sx if len(sx['j']) == 1]) # first-order\n",
    "    uniq_j2 = set([sx['j'] for sx in Sx if len(sx['j']) == 2]) # second-order\n",
    "    ret1 = dict()\n",
    "    ret2 = dict()\n",
    "    for j in uniq_j1:\n",
    "        arr = np.array([sx['coef'] for sx in Sx if sx['j'] == j])\n",
    "        ret1[j] = np.mean(arr)\n",
    "    for jj in uniq_j2:\n",
    "        arr = np.array([sx['coef'] for sx in Sx if sx['j'] == jj])\n",
    "        ret2[jj] = np.mean(arr)\n",
    "    return ret1, ret2\n",
    "\n",
    "def log_s2s1(s1, s2):\n",
    "    J = len(s1)\n",
    "    ret = []\n",
    "    for j1 in range(J-1):\n",
    "        s1j = s1[(j1,)]\n",
    "        s2jj = np.array([s2[(j1, j2)] for j2 in range(j1+1, J)])\n",
    "        ret.append(np.log(s2jj / s1j))\n",
    "    return ret"
   ]
  },
  {
   "cell_type": "code",
   "execution_count": 10,
   "metadata": {},
   "outputs": [],
   "source": [
    "params = [(A, r, n) for A in [1/10, 1/2, 1] for r in [100, 300, 800] for n in [1, 10, 50]]\n",
    "df_pre = {'A': [], 'r': [], 'n': [], 'j1': [], 'j2': [], 'log_s2s1': []}\n",
    "for p in params:\n",
    "    A, r, n = p\n",
    "    qe_rot_EB = qeCircularStrings(teb_len, A=A, r=r, n=n, lmin=5, lmax=3000, lensed=True).r\n",
    "    log_red_coef = log_s2s1(*reducedCoef(S(qe_rot_EB)))\n",
    "    J = log_red_coef[0].size + 1\n",
    "    for j1 in range(J-1):\n",
    "        for j2 in range(j1+1, J):\n",
    "            df_pre['A'].append(A)\n",
    "            df_pre['r'].append(r)\n",
    "            df_pre['n'].append(n)\n",
    "            df_pre['j1'].append(j1)\n",
    "            df_pre['j2'].append(j2)\n",
    "            df_pre['log_s2s1'].append(log_red_coef[j1][j2-j1-1])\n",
    "df = pd.DataFrame(df_pre)"
   ]
  },
  {
   "cell_type": "code",
   "execution_count": 16,
   "metadata": {},
   "outputs": [
    {
     "data": {
      "application/vnd.plotly.v1+json": {
       "config": {
        "plotlyServerURL": "https://plot.ly"
       },
       "data": [
        {
         "hovertemplate": "n=1<br>j1=0<br>j2=%{x}<br>log_s2s1=%{y}<extra></extra>",
         "legendgroup": "1",
         "line": {
          "color": "#636efa",
          "dash": "solid"
         },
         "marker": {
          "symbol": "circle"
         },
         "mode": "lines",
         "name": "1",
         "orientation": "v",
         "showlegend": true,
         "type": "scatter",
         "x": [
          1,
          2,
          3,
          4,
          5,
          6,
          7
         ],
         "xaxis": "x",
         "y": [
          -2.425077102123216,
          -2.7011116071853642,
          -3.518322749935683,
          -4.070401034176625,
          -3.9058289422178314,
          -3.56826523085504,
          -3.1824783836523522
         ],
         "yaxis": "y"
        },
        {
         "hovertemplate": "n=1<br>j1=1<br>j2=%{x}<br>log_s2s1=%{y}<extra></extra>",
         "legendgroup": "1",
         "line": {
          "color": "#636efa",
          "dash": "solid"
         },
         "marker": {
          "symbol": "circle"
         },
         "mode": "lines",
         "name": "1",
         "orientation": "v",
         "showlegend": false,
         "type": "scatter",
         "x": [
          2,
          3,
          4,
          5,
          6,
          7
         ],
         "xaxis": "x",
         "y": [
          -2.5488997836175256,
          -2.9744035905915416,
          -3.5007249558998033,
          -3.218410116788165,
          -2.8340428843941696,
          -2.426410286877225
         ],
         "yaxis": "y"
        },
        {
         "hovertemplate": "n=1<br>j1=2<br>j2=%{x}<br>log_s2s1=%{y}<extra></extra>",
         "legendgroup": "1",
         "line": {
          "color": "#636efa",
          "dash": "solid"
         },
         "marker": {
          "symbol": "circle"
         },
         "mode": "lines",
         "name": "1",
         "orientation": "v",
         "showlegend": false,
         "type": "scatter",
         "x": [
          3,
          4,
          5,
          6,
          7
         ],
         "xaxis": "x",
         "y": [
          -1.5909438647274488,
          -1.4502897483116504,
          -1.422858482948085,
          -1.5344214432087608,
          -1.759924002605481
         ],
         "yaxis": "y"
        },
        {
         "hovertemplate": "n=1<br>j1=3<br>j2=%{x}<br>log_s2s1=%{y}<extra></extra>",
         "legendgroup": "1",
         "line": {
          "color": "#636efa",
          "dash": "solid"
         },
         "marker": {
          "symbol": "circle"
         },
         "mode": "lines",
         "name": "1",
         "orientation": "v",
         "showlegend": false,
         "type": "scatter",
         "x": [
          4,
          5,
          6,
          7
         ],
         "xaxis": "x",
         "y": [
          -1.5511122815890837,
          -1.2903615153737062,
          -1.3888587368902214,
          -1.650260015391361
         ],
         "yaxis": "y"
        },
        {
         "hovertemplate": "n=1<br>j1=4<br>j2=%{x}<br>log_s2s1=%{y}<extra></extra>",
         "legendgroup": "1",
         "line": {
          "color": "#636efa",
          "dash": "solid"
         },
         "marker": {
          "symbol": "circle"
         },
         "mode": "lines",
         "name": "1",
         "orientation": "v",
         "showlegend": false,
         "type": "scatter",
         "x": [
          5,
          6,
          7
         ],
         "xaxis": "x",
         "y": [
          -1.4979355686371956,
          -1.4307159248127193,
          -1.6303782936766407
         ],
         "yaxis": "y"
        },
        {
         "hovertemplate": "n=1<br>j1=5<br>j2=%{x}<br>log_s2s1=%{y}<extra></extra>",
         "legendgroup": "1",
         "line": {
          "color": "#636efa",
          "dash": "solid"
         },
         "marker": {
          "symbol": "circle"
         },
         "mode": "lines",
         "name": "1",
         "orientation": "v",
         "showlegend": false,
         "type": "scatter",
         "x": [
          6,
          7
         ],
         "xaxis": "x",
         "y": [
          -1.7312434690425194,
          -1.5832554024710095
         ],
         "yaxis": "y"
        },
        {
         "hovertemplate": "n=1<br>j1=6<br>j2=%{x}<br>log_s2s1=%{y}<extra></extra>",
         "legendgroup": "1",
         "line": {
          "color": "#636efa",
          "dash": "solid"
         },
         "marker": {
          "symbol": "circle"
         },
         "mode": "lines",
         "name": "1",
         "orientation": "v",
         "showlegend": false,
         "type": "scatter",
         "x": [
          7
         ],
         "xaxis": "x",
         "y": [
          -1.5669569457733685
         ],
         "yaxis": "y"
        },
        {
         "hovertemplate": "n=10<br>j1=0<br>j2=%{x}<br>log_s2s1=%{y}<extra></extra>",
         "legendgroup": "10",
         "line": {
          "color": "#EF553B",
          "dash": "solid"
         },
         "marker": {
          "symbol": "circle"
         },
         "mode": "lines",
         "name": "10",
         "orientation": "v",
         "showlegend": true,
         "type": "scatter",
         "x": [
          1,
          2,
          3,
          4,
          5,
          6,
          7
         ],
         "xaxis": "x",
         "y": [
          -2.4460190814968703,
          -2.6834037050477844,
          -3.25961512398538,
          -4.125593480289388,
          -4.4306582309360545,
          -4.456203923946932,
          -4.232498323828976
         ],
         "yaxis": "y"
        },
        {
         "hovertemplate": "n=10<br>j1=1<br>j2=%{x}<br>log_s2s1=%{y}<extra></extra>",
         "legendgroup": "10",
         "line": {
          "color": "#EF553B",
          "dash": "solid"
         },
         "marker": {
          "symbol": "circle"
         },
         "mode": "lines",
         "name": "10",
         "orientation": "v",
         "showlegend": false,
         "type": "scatter",
         "x": [
          2,
          3,
          4,
          5,
          6,
          7
         ],
         "xaxis": "x",
         "y": [
          -2.43504551938224,
          -2.7551684055202927,
          -3.4464766080205673,
          -3.393564718638967,
          -3.0618247634701334,
          -2.6801689478769277
         ],
         "yaxis": "y"
        },
        {
         "hovertemplate": "n=10<br>j1=2<br>j2=%{x}<br>log_s2s1=%{y}<extra></extra>",
         "legendgroup": "10",
         "line": {
          "color": "#EF553B",
          "dash": "solid"
         },
         "marker": {
          "symbol": "circle"
         },
         "mode": "lines",
         "name": "10",
         "orientation": "v",
         "showlegend": false,
         "type": "scatter",
         "x": [
          3,
          4,
          5,
          6,
          7
         ],
         "xaxis": "x",
         "y": [
          -1.611555434966182,
          -1.475517307929227,
          -1.5082325825618825,
          -1.5509652456492686,
          -1.7868092072623671
         ],
         "yaxis": "y"
        },
        {
         "hovertemplate": "n=10<br>j1=3<br>j2=%{x}<br>log_s2s1=%{y}<extra></extra>",
         "legendgroup": "10",
         "line": {
          "color": "#EF553B",
          "dash": "solid"
         },
         "marker": {
          "symbol": "circle"
         },
         "mode": "lines",
         "name": "10",
         "orientation": "v",
         "showlegend": false,
         "type": "scatter",
         "x": [
          4,
          5,
          6,
          7
         ],
         "xaxis": "x",
         "y": [
          -1.6030861626650867,
          -1.4737938783567195,
          -1.455941478554703,
          -1.6668756288279543
         ],
         "yaxis": "y"
        },
        {
         "hovertemplate": "n=10<br>j1=4<br>j2=%{x}<br>log_s2s1=%{y}<extra></extra>",
         "legendgroup": "10",
         "line": {
          "color": "#EF553B",
          "dash": "solid"
         },
         "marker": {
          "symbol": "circle"
         },
         "mode": "lines",
         "name": "10",
         "orientation": "v",
         "showlegend": false,
         "type": "scatter",
         "x": [
          5,
          6,
          7
         ],
         "xaxis": "x",
         "y": [
          -1.6970098022389752,
          -1.512572763603101,
          -1.634053661418863
         ],
         "yaxis": "y"
        },
        {
         "hovertemplate": "n=10<br>j1=5<br>j2=%{x}<br>log_s2s1=%{y}<extra></extra>",
         "legendgroup": "10",
         "line": {
          "color": "#EF553B",
          "dash": "solid"
         },
         "marker": {
          "symbol": "circle"
         },
         "mode": "lines",
         "name": "10",
         "orientation": "v",
         "showlegend": false,
         "type": "scatter",
         "x": [
          6,
          7
         ],
         "xaxis": "x",
         "y": [
          -1.7125001085446452,
          -1.6475709989901268
         ],
         "yaxis": "y"
        },
        {
         "hovertemplate": "n=10<br>j1=6<br>j2=%{x}<br>log_s2s1=%{y}<extra></extra>",
         "legendgroup": "10",
         "line": {
          "color": "#EF553B",
          "dash": "solid"
         },
         "marker": {
          "symbol": "circle"
         },
         "mode": "lines",
         "name": "10",
         "orientation": "v",
         "showlegend": false,
         "type": "scatter",
         "x": [
          7
         ],
         "xaxis": "x",
         "y": [
          -1.938788208700545
         ],
         "yaxis": "y"
        },
        {
         "hovertemplate": "n=50<br>j1=0<br>j2=%{x}<br>log_s2s1=%{y}<extra></extra>",
         "legendgroup": "50",
         "line": {
          "color": "#00cc96",
          "dash": "solid"
         },
         "marker": {
          "symbol": "circle"
         },
         "mode": "lines",
         "name": "50",
         "orientation": "v",
         "showlegend": true,
         "type": "scatter",
         "x": [
          1,
          2,
          3,
          4,
          5,
          6,
          7
         ],
         "xaxis": "x",
         "y": [
          -2.4227393147982874,
          -2.622081593532153,
          -3.4025418470749,
          -4.303175866066764,
          -4.47540307023114,
          -4.22327937778607,
          -3.8168287588855048
         ],
         "yaxis": "y"
        },
        {
         "hovertemplate": "n=50<br>j1=1<br>j2=%{x}<br>log_s2s1=%{y}<extra></extra>",
         "legendgroup": "50",
         "line": {
          "color": "#00cc96",
          "dash": "solid"
         },
         "marker": {
          "symbol": "circle"
         },
         "mode": "lines",
         "name": "50",
         "orientation": "v",
         "showlegend": false,
         "type": "scatter",
         "x": [
          2,
          3,
          4,
          5,
          6,
          7
         ],
         "xaxis": "x",
         "y": [
          -2.5271328732686684,
          -3.0175534543072877,
          -3.6568175183763603,
          -3.497637846399131,
          -3.0476284198319923,
          -2.597765677261434
         ],
         "yaxis": "y"
        },
        {
         "hovertemplate": "n=50<br>j1=2<br>j2=%{x}<br>log_s2s1=%{y}<extra></extra>",
         "legendgroup": "50",
         "line": {
          "color": "#00cc96",
          "dash": "solid"
         },
         "marker": {
          "symbol": "circle"
         },
         "mode": "lines",
         "name": "50",
         "orientation": "v",
         "showlegend": false,
         "type": "scatter",
         "x": [
          3,
          4,
          5,
          6,
          7
         ],
         "xaxis": "x",
         "y": [
          -1.63514370969564,
          -1.4255662753207299,
          -1.4265114307116418,
          -1.4449372168670607,
          -1.684461310423895
         ],
         "yaxis": "y"
        },
        {
         "hovertemplate": "n=50<br>j1=3<br>j2=%{x}<br>log_s2s1=%{y}<extra></extra>",
         "legendgroup": "50",
         "line": {
          "color": "#00cc96",
          "dash": "solid"
         },
         "marker": {
          "symbol": "circle"
         },
         "mode": "lines",
         "name": "50",
         "orientation": "v",
         "showlegend": false,
         "type": "scatter",
         "x": [
          4,
          5,
          6,
          7
         ],
         "xaxis": "x",
         "y": [
          -1.5792466036029271,
          -1.3927930794885899,
          -1.3787833731621173,
          -1.5822629710880123
         ],
         "yaxis": "y"
        },
        {
         "hovertemplate": "n=50<br>j1=4<br>j2=%{x}<br>log_s2s1=%{y}<extra></extra>",
         "legendgroup": "50",
         "line": {
          "color": "#00cc96",
          "dash": "solid"
         },
         "marker": {
          "symbol": "circle"
         },
         "mode": "lines",
         "name": "50",
         "orientation": "v",
         "showlegend": false,
         "type": "scatter",
         "x": [
          5,
          6,
          7
         ],
         "xaxis": "x",
         "y": [
          -1.6068167630907249,
          -1.547520124723026,
          -1.7237176804516678
         ],
         "yaxis": "y"
        },
        {
         "hovertemplate": "n=50<br>j1=5<br>j2=%{x}<br>log_s2s1=%{y}<extra></extra>",
         "legendgroup": "50",
         "line": {
          "color": "#00cc96",
          "dash": "solid"
         },
         "marker": {
          "symbol": "circle"
         },
         "mode": "lines",
         "name": "50",
         "orientation": "v",
         "showlegend": false,
         "type": "scatter",
         "x": [
          6,
          7
         ],
         "xaxis": "x",
         "y": [
          -1.8079222432319146,
          -1.6852152619511187
         ],
         "yaxis": "y"
        },
        {
         "hovertemplate": "n=50<br>j1=6<br>j2=%{x}<br>log_s2s1=%{y}<extra></extra>",
         "legendgroup": "50",
         "line": {
          "color": "#00cc96",
          "dash": "solid"
         },
         "marker": {
          "symbol": "circle"
         },
         "mode": "lines",
         "name": "50",
         "orientation": "v",
         "showlegend": false,
         "type": "scatter",
         "x": [
          7
         ],
         "xaxis": "x",
         "y": [
          -1.9622476992194022
         ],
         "yaxis": "y"
        }
       ],
       "layout": {
        "legend": {
         "title": {
          "text": "n"
         },
         "tracegroupgap": 0
        },
        "margin": {
         "t": 60
        },
        "template": {
         "data": {
          "bar": [
           {
            "error_x": {
             "color": "#2a3f5f"
            },
            "error_y": {
             "color": "#2a3f5f"
            },
            "marker": {
             "line": {
              "color": "#E5ECF6",
              "width": 0.5
             },
             "pattern": {
              "fillmode": "overlay",
              "size": 10,
              "solidity": 0.2
             }
            },
            "type": "bar"
           }
          ],
          "barpolar": [
           {
            "marker": {
             "line": {
              "color": "#E5ECF6",
              "width": 0.5
             },
             "pattern": {
              "fillmode": "overlay",
              "size": 10,
              "solidity": 0.2
             }
            },
            "type": "barpolar"
           }
          ],
          "carpet": [
           {
            "aaxis": {
             "endlinecolor": "#2a3f5f",
             "gridcolor": "white",
             "linecolor": "white",
             "minorgridcolor": "white",
             "startlinecolor": "#2a3f5f"
            },
            "baxis": {
             "endlinecolor": "#2a3f5f",
             "gridcolor": "white",
             "linecolor": "white",
             "minorgridcolor": "white",
             "startlinecolor": "#2a3f5f"
            },
            "type": "carpet"
           }
          ],
          "choropleth": [
           {
            "colorbar": {
             "outlinewidth": 0,
             "ticks": ""
            },
            "type": "choropleth"
           }
          ],
          "contour": [
           {
            "colorbar": {
             "outlinewidth": 0,
             "ticks": ""
            },
            "colorscale": [
             [
              0,
              "#0d0887"
             ],
             [
              0.1111111111111111,
              "#46039f"
             ],
             [
              0.2222222222222222,
              "#7201a8"
             ],
             [
              0.3333333333333333,
              "#9c179e"
             ],
             [
              0.4444444444444444,
              "#bd3786"
             ],
             [
              0.5555555555555556,
              "#d8576b"
             ],
             [
              0.6666666666666666,
              "#ed7953"
             ],
             [
              0.7777777777777778,
              "#fb9f3a"
             ],
             [
              0.8888888888888888,
              "#fdca26"
             ],
             [
              1,
              "#f0f921"
             ]
            ],
            "type": "contour"
           }
          ],
          "contourcarpet": [
           {
            "colorbar": {
             "outlinewidth": 0,
             "ticks": ""
            },
            "type": "contourcarpet"
           }
          ],
          "heatmap": [
           {
            "colorbar": {
             "outlinewidth": 0,
             "ticks": ""
            },
            "colorscale": [
             [
              0,
              "#0d0887"
             ],
             [
              0.1111111111111111,
              "#46039f"
             ],
             [
              0.2222222222222222,
              "#7201a8"
             ],
             [
              0.3333333333333333,
              "#9c179e"
             ],
             [
              0.4444444444444444,
              "#bd3786"
             ],
             [
              0.5555555555555556,
              "#d8576b"
             ],
             [
              0.6666666666666666,
              "#ed7953"
             ],
             [
              0.7777777777777778,
              "#fb9f3a"
             ],
             [
              0.8888888888888888,
              "#fdca26"
             ],
             [
              1,
              "#f0f921"
             ]
            ],
            "type": "heatmap"
           }
          ],
          "heatmapgl": [
           {
            "colorbar": {
             "outlinewidth": 0,
             "ticks": ""
            },
            "colorscale": [
             [
              0,
              "#0d0887"
             ],
             [
              0.1111111111111111,
              "#46039f"
             ],
             [
              0.2222222222222222,
              "#7201a8"
             ],
             [
              0.3333333333333333,
              "#9c179e"
             ],
             [
              0.4444444444444444,
              "#bd3786"
             ],
             [
              0.5555555555555556,
              "#d8576b"
             ],
             [
              0.6666666666666666,
              "#ed7953"
             ],
             [
              0.7777777777777778,
              "#fb9f3a"
             ],
             [
              0.8888888888888888,
              "#fdca26"
             ],
             [
              1,
              "#f0f921"
             ]
            ],
            "type": "heatmapgl"
           }
          ],
          "histogram": [
           {
            "marker": {
             "pattern": {
              "fillmode": "overlay",
              "size": 10,
              "solidity": 0.2
             }
            },
            "type": "histogram"
           }
          ],
          "histogram2d": [
           {
            "colorbar": {
             "outlinewidth": 0,
             "ticks": ""
            },
            "colorscale": [
             [
              0,
              "#0d0887"
             ],
             [
              0.1111111111111111,
              "#46039f"
             ],
             [
              0.2222222222222222,
              "#7201a8"
             ],
             [
              0.3333333333333333,
              "#9c179e"
             ],
             [
              0.4444444444444444,
              "#bd3786"
             ],
             [
              0.5555555555555556,
              "#d8576b"
             ],
             [
              0.6666666666666666,
              "#ed7953"
             ],
             [
              0.7777777777777778,
              "#fb9f3a"
             ],
             [
              0.8888888888888888,
              "#fdca26"
             ],
             [
              1,
              "#f0f921"
             ]
            ],
            "type": "histogram2d"
           }
          ],
          "histogram2dcontour": [
           {
            "colorbar": {
             "outlinewidth": 0,
             "ticks": ""
            },
            "colorscale": [
             [
              0,
              "#0d0887"
             ],
             [
              0.1111111111111111,
              "#46039f"
             ],
             [
              0.2222222222222222,
              "#7201a8"
             ],
             [
              0.3333333333333333,
              "#9c179e"
             ],
             [
              0.4444444444444444,
              "#bd3786"
             ],
             [
              0.5555555555555556,
              "#d8576b"
             ],
             [
              0.6666666666666666,
              "#ed7953"
             ],
             [
              0.7777777777777778,
              "#fb9f3a"
             ],
             [
              0.8888888888888888,
              "#fdca26"
             ],
             [
              1,
              "#f0f921"
             ]
            ],
            "type": "histogram2dcontour"
           }
          ],
          "mesh3d": [
           {
            "colorbar": {
             "outlinewidth": 0,
             "ticks": ""
            },
            "type": "mesh3d"
           }
          ],
          "parcoords": [
           {
            "line": {
             "colorbar": {
              "outlinewidth": 0,
              "ticks": ""
             }
            },
            "type": "parcoords"
           }
          ],
          "pie": [
           {
            "automargin": true,
            "type": "pie"
           }
          ],
          "scatter": [
           {
            "fillpattern": {
             "fillmode": "overlay",
             "size": 10,
             "solidity": 0.2
            },
            "type": "scatter"
           }
          ],
          "scatter3d": [
           {
            "line": {
             "colorbar": {
              "outlinewidth": 0,
              "ticks": ""
             }
            },
            "marker": {
             "colorbar": {
              "outlinewidth": 0,
              "ticks": ""
             }
            },
            "type": "scatter3d"
           }
          ],
          "scattercarpet": [
           {
            "marker": {
             "colorbar": {
              "outlinewidth": 0,
              "ticks": ""
             }
            },
            "type": "scattercarpet"
           }
          ],
          "scattergeo": [
           {
            "marker": {
             "colorbar": {
              "outlinewidth": 0,
              "ticks": ""
             }
            },
            "type": "scattergeo"
           }
          ],
          "scattergl": [
           {
            "marker": {
             "colorbar": {
              "outlinewidth": 0,
              "ticks": ""
             }
            },
            "type": "scattergl"
           }
          ],
          "scattermapbox": [
           {
            "marker": {
             "colorbar": {
              "outlinewidth": 0,
              "ticks": ""
             }
            },
            "type": "scattermapbox"
           }
          ],
          "scatterpolar": [
           {
            "marker": {
             "colorbar": {
              "outlinewidth": 0,
              "ticks": ""
             }
            },
            "type": "scatterpolar"
           }
          ],
          "scatterpolargl": [
           {
            "marker": {
             "colorbar": {
              "outlinewidth": 0,
              "ticks": ""
             }
            },
            "type": "scatterpolargl"
           }
          ],
          "scatterternary": [
           {
            "marker": {
             "colorbar": {
              "outlinewidth": 0,
              "ticks": ""
             }
            },
            "type": "scatterternary"
           }
          ],
          "surface": [
           {
            "colorbar": {
             "outlinewidth": 0,
             "ticks": ""
            },
            "colorscale": [
             [
              0,
              "#0d0887"
             ],
             [
              0.1111111111111111,
              "#46039f"
             ],
             [
              0.2222222222222222,
              "#7201a8"
             ],
             [
              0.3333333333333333,
              "#9c179e"
             ],
             [
              0.4444444444444444,
              "#bd3786"
             ],
             [
              0.5555555555555556,
              "#d8576b"
             ],
             [
              0.6666666666666666,
              "#ed7953"
             ],
             [
              0.7777777777777778,
              "#fb9f3a"
             ],
             [
              0.8888888888888888,
              "#fdca26"
             ],
             [
              1,
              "#f0f921"
             ]
            ],
            "type": "surface"
           }
          ],
          "table": [
           {
            "cells": {
             "fill": {
              "color": "#EBF0F8"
             },
             "line": {
              "color": "white"
             }
            },
            "header": {
             "fill": {
              "color": "#C8D4E3"
             },
             "line": {
              "color": "white"
             }
            },
            "type": "table"
           }
          ]
         },
         "layout": {
          "annotationdefaults": {
           "arrowcolor": "#2a3f5f",
           "arrowhead": 0,
           "arrowwidth": 1
          },
          "autotypenumbers": "strict",
          "coloraxis": {
           "colorbar": {
            "outlinewidth": 0,
            "ticks": ""
           }
          },
          "colorscale": {
           "diverging": [
            [
             0,
             "#8e0152"
            ],
            [
             0.1,
             "#c51b7d"
            ],
            [
             0.2,
             "#de77ae"
            ],
            [
             0.3,
             "#f1b6da"
            ],
            [
             0.4,
             "#fde0ef"
            ],
            [
             0.5,
             "#f7f7f7"
            ],
            [
             0.6,
             "#e6f5d0"
            ],
            [
             0.7,
             "#b8e186"
            ],
            [
             0.8,
             "#7fbc41"
            ],
            [
             0.9,
             "#4d9221"
            ],
            [
             1,
             "#276419"
            ]
           ],
           "sequential": [
            [
             0,
             "#0d0887"
            ],
            [
             0.1111111111111111,
             "#46039f"
            ],
            [
             0.2222222222222222,
             "#7201a8"
            ],
            [
             0.3333333333333333,
             "#9c179e"
            ],
            [
             0.4444444444444444,
             "#bd3786"
            ],
            [
             0.5555555555555556,
             "#d8576b"
            ],
            [
             0.6666666666666666,
             "#ed7953"
            ],
            [
             0.7777777777777778,
             "#fb9f3a"
            ],
            [
             0.8888888888888888,
             "#fdca26"
            ],
            [
             1,
             "#f0f921"
            ]
           ],
           "sequentialminus": [
            [
             0,
             "#0d0887"
            ],
            [
             0.1111111111111111,
             "#46039f"
            ],
            [
             0.2222222222222222,
             "#7201a8"
            ],
            [
             0.3333333333333333,
             "#9c179e"
            ],
            [
             0.4444444444444444,
             "#bd3786"
            ],
            [
             0.5555555555555556,
             "#d8576b"
            ],
            [
             0.6666666666666666,
             "#ed7953"
            ],
            [
             0.7777777777777778,
             "#fb9f3a"
            ],
            [
             0.8888888888888888,
             "#fdca26"
            ],
            [
             1,
             "#f0f921"
            ]
           ]
          },
          "colorway": [
           "#636efa",
           "#EF553B",
           "#00cc96",
           "#ab63fa",
           "#FFA15A",
           "#19d3f3",
           "#FF6692",
           "#B6E880",
           "#FF97FF",
           "#FECB52"
          ],
          "font": {
           "color": "#2a3f5f"
          },
          "geo": {
           "bgcolor": "white",
           "lakecolor": "white",
           "landcolor": "#E5ECF6",
           "showlakes": true,
           "showland": true,
           "subunitcolor": "white"
          },
          "hoverlabel": {
           "align": "left"
          },
          "hovermode": "closest",
          "mapbox": {
           "style": "light"
          },
          "paper_bgcolor": "white",
          "plot_bgcolor": "#E5ECF6",
          "polar": {
           "angularaxis": {
            "gridcolor": "white",
            "linecolor": "white",
            "ticks": ""
           },
           "bgcolor": "#E5ECF6",
           "radialaxis": {
            "gridcolor": "white",
            "linecolor": "white",
            "ticks": ""
           }
          },
          "scene": {
           "xaxis": {
            "backgroundcolor": "#E5ECF6",
            "gridcolor": "white",
            "gridwidth": 2,
            "linecolor": "white",
            "showbackground": true,
            "ticks": "",
            "zerolinecolor": "white"
           },
           "yaxis": {
            "backgroundcolor": "#E5ECF6",
            "gridcolor": "white",
            "gridwidth": 2,
            "linecolor": "white",
            "showbackground": true,
            "ticks": "",
            "zerolinecolor": "white"
           },
           "zaxis": {
            "backgroundcolor": "#E5ECF6",
            "gridcolor": "white",
            "gridwidth": 2,
            "linecolor": "white",
            "showbackground": true,
            "ticks": "",
            "zerolinecolor": "white"
           }
          },
          "shapedefaults": {
           "line": {
            "color": "#2a3f5f"
           }
          },
          "ternary": {
           "aaxis": {
            "gridcolor": "white",
            "linecolor": "white",
            "ticks": ""
           },
           "baxis": {
            "gridcolor": "white",
            "linecolor": "white",
            "ticks": ""
           },
           "bgcolor": "#E5ECF6",
           "caxis": {
            "gridcolor": "white",
            "linecolor": "white",
            "ticks": ""
           }
          },
          "title": {
           "x": 0.05
          },
          "xaxis": {
           "automargin": true,
           "gridcolor": "white",
           "linecolor": "white",
           "ticks": "",
           "title": {
            "standoff": 15
           },
           "zerolinecolor": "white",
           "zerolinewidth": 2
          },
          "yaxis": {
           "automargin": true,
           "gridcolor": "white",
           "linecolor": "white",
           "ticks": "",
           "title": {
            "standoff": 15
           },
           "zerolinecolor": "white",
           "zerolinewidth": 2
          }
         }
        },
        "xaxis": {
         "anchor": "y",
         "domain": [
          0,
          1
         ],
         "title": {
          "text": "j2"
         }
        },
        "yaxis": {
         "anchor": "x",
         "domain": [
          0,
          1
         ],
         "title": {
          "text": "log_s2s1"
         }
        }
       }
      }
     },
     "metadata": {},
     "output_type": "display_data"
    }
   ],
   "source": [
    "px.line(df[(df['A']==1) & (df['r']==800)], x='j2', y='log_s2s1', color='n', line_group='j1')"
   ]
  },
  {
   "cell_type": "code",
   "execution_count": 24,
   "metadata": {},
   "outputs": [],
   "source": [
    "def plotReducedCoefs(reduced_coefs, fmt):\n",
    "    J = reduced_coefs[0].size + 1\n",
    "    for j1 in range(J-1):\n",
    "        j2s = np.arange(j1+1, J)\n",
    "        plt.plot(j2s, reduced_coefs[j1], fmt)\n",
    "    plt.xlabel('$j_2$')\n",
    "    plt.ylabel('$\\ln s_2/s_1$')"
   ]
  },
  {
   "cell_type": "code",
   "execution_count": 26,
   "metadata": {},
   "outputs": [
    {
     "data": {
      "image/png": "[encoded data removed]",
      "text/plain": [
       "<Figure size 432x288 with 1 Axes>"
      ]
     },
     "metadata": {
      "needs_background": "light"
     },
     "output_type": "display_data"
    }
   ],
   "source": [
    "# use plotly here\n",
    "\n",
    "plotReducedCoefs(reduced_coefs[(0.1, 100, 10)], 'r')\n",
    "plotReducedCoefs(reduced_coefs[(0.1, 300, 10)], 'g')\n",
    "plotReducedCoefs(reduced_coefs[(0.1, 800, 10)], 'b')"
   ]
  },
  {
   "cell_type": "code",
   "execution_count": null,
   "metadata": {},
   "outputs": [],
   "source": [
    "# maybe make a random gaussian map based on the measured alpha-alpha power spectrum,\n",
    "# and see if the coefs are any different (i.e. non-gaussianity is captured)"
   ]
  },
  {
   "cell_type": "code",
   "execution_count": null,
   "metadata": {},
   "outputs": [],
   "source": []
  }
 ],
 "metadata": {
  "interpreter": {
   "hash": "aee8b7b246df8f9039afb4144a1f6fd8d2ca17a180786b69acc140d282b71a49"
  },
  "kernelspec": {
   "display_name": "Python 3.9.7 64-bit",
   "language": "python",
   "name": "python3"
  },
  "language_info": {
   "codemirror_mode": {
    "name": "ipython",
    "version": 3
   },
   "file_extension": ".py",
   "mimetype": "text/x-python",
   "name": "python",
   "nbconvert_exporter": "python",
   "pygments_lexer": "ipython3",
   "version": "3.9.7"
  },
  "orig_nbformat": 4
 },
 "nbformat": 4,
 "nbformat_minor": 2
}
