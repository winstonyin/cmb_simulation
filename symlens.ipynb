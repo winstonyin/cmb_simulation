{
 "cells": [
  {
   "cell_type": "code",
   "execution_count": 54,
   "metadata": {},
   "outputs": [],
   "source": [
    "from cmb_simulation import *\n",
    "from pixell import enmap\n",
    "from symlens import qe\n",
    "from scipy.interpolate import interp1d"
   ]
  },
  {
   "cell_type": "code",
   "execution_count": 2,
   "metadata": {},
   "outputs": [],
   "source": [
    "powers = getCambSpectra()"
   ]
  },
  {
   "cell_type": "code",
   "execution_count": 3,
   "metadata": {},
   "outputs": [],
   "source": [
    "d = 1/60/180*np.pi\n",
    "N = 800\n",
    "cmb = CMBSpectra(powers)\n",
    "teb = cmb.generatePrimordialMaps(d, N)\n",
    "p = cmb.generateLensingPotential(d, N)\n",
    "detector = Detector(*cmb_s4_params)\n",
    "teb_obs = detector.addNoise(teb)\n",
    "teb_len = lensTEB(teb, p, lensTaylorNearest)\n",
    "teb_len_obs = detector.addNoise(teb_len)"
   ]
  },
  {
   "cell_type": "code",
   "execution_count": 4,
   "metadata": {},
   "outputs": [],
   "source": [
    "shape, wcs = enmap.geometry(shape=(N,N),res=d,pos=(0,0))"
   ]
  },
  {
   "cell_type": "code",
   "execution_count": 48,
   "metadata": {},
   "outputs": [],
   "source": [
    "T = enmap.enmap(teb_len_obs.T.r, wcs=wcs)\n",
    "E = enmap.enmap(teb_len_obs.E.r, wcs=wcs)\n",
    "B = enmap.enmap(teb_len_obs.B.r, wcs=wcs)"
   ]
  },
  {
   "cell_type": "code",
   "execution_count": 61,
   "metadata": {},
   "outputs": [],
   "source": [
    "modlmap = enmap.modlmap(shape, wcs)\n",
    "feed_dict = {}\n",
    "feed_dict['uC_T_T'] = cmb.TT_len(modlmap)\n",
    "feed_dict['uC_E_E'] = cmb.EE_len(modlmap)\n",
    "feed_dict['uC_B_B'] = cmb.BB_len(modlmap)\n",
    "feed_dict['tC_T_T'] = cmb.TT_len(modlmap) + detector.TTn(modlmap)\n",
    "feed_dict['tC_E_E'] = cmb.EE_len(modlmap) + detector.EEn(modlmap)\n",
    "feed_dict['tC_B_B'] = cmb.BB_len(modlmap) + detector.BBn(modlmap)\n",
    "feed_dict['X'] = enmap.fft(E, normalize='phys')\n",
    "feed_dict['Y'] = enmap.fft(E, normalize='phys')"
   ]
  },
  {
   "cell_type": "code",
   "execution_count": 62,
   "metadata": {},
   "outputs": [
    {
     "name": "stderr",
     "output_type": "stream",
     "text": [
      "/Users/winston/anaconda3/envs/symlens/lib/python3.9/site-packages/symlens-0.3.3-py3.9.egg/symlens/factorize.py:247: UserWarning: No xmask specified; assuming all ones. This is probably not going to end well.\n",
      "  warnings.warn(\"No xmask specified; assuming all ones. This is probably not going to end well.\")\n",
      "/Users/winston/anaconda3/envs/symlens/lib/python3.9/site-packages/symlens-0.3.3-py3.9.egg/symlens/factorize.py:250: UserWarning: No xmask specified; assuming all ones. This is probably not going to end well.\n",
      "  warnings.warn(\"No xmask specified; assuming all ones. This is probably not going to end well.\")\n",
      "/Users/winston/anaconda3/envs/symlens/lib/python3.9/site-packages/symlens-0.3.3-py3.9.egg/symlens/factorize.py:247: UserWarning: No xmask specified; assuming all ones. This is probably not going to end well.\n",
      "  warnings.warn(\"No xmask specified; assuming all ones. This is probably not going to end well.\")\n",
      "/Users/winston/anaconda3/envs/symlens/lib/python3.9/site-packages/symlens-0.3.3-py3.9.egg/symlens/factorize.py:250: UserWarning: No xmask specified; assuming all ones. This is probably not going to end well.\n",
      "  warnings.warn(\"No xmask specified; assuming all ones. This is probably not going to end well.\")\n",
      "/Users/winston/anaconda3/envs/symlens/lib/python3.9/site-packages/symlens-0.3.3-py3.9.egg/symlens/factorize.py:247: UserWarning: No xmask specified; assuming all ones. This is probably not going to end well.\n",
      "  warnings.warn(\"No xmask specified; assuming all ones. This is probably not going to end well.\")\n",
      "/Users/winston/anaconda3/envs/symlens/lib/python3.9/site-packages/symlens-0.3.3-py3.9.egg/symlens/factorize.py:250: UserWarning: No xmask specified; assuming all ones. This is probably not going to end well.\n",
      "  warnings.warn(\"No xmask specified; assuming all ones. This is probably not going to end well.\")\n",
      "/Users/winston/anaconda3/envs/symlens/lib/python3.9/site-packages/symlens-0.3.3-py3.9.egg/symlens/factorize.py:247: UserWarning: No xmask specified; assuming all ones. This is probably not going to end well.\n",
      "  warnings.warn(\"No xmask specified; assuming all ones. This is probably not going to end well.\")\n",
      "/Users/winston/anaconda3/envs/symlens/lib/python3.9/site-packages/symlens-0.3.3-py3.9.egg/symlens/factorize.py:250: UserWarning: No xmask specified; assuming all ones. This is probably not going to end well.\n",
      "  warnings.warn(\"No xmask specified; assuming all ones. This is probably not going to end well.\")\n",
      "/Users/winston/anaconda3/envs/symlens/lib/python3.9/site-packages/symlens-0.3.3-py3.9.egg/symlens/factorize.py:247: UserWarning: No xmask specified; assuming all ones. This is probably not going to end well.\n",
      "  warnings.warn(\"No xmask specified; assuming all ones. This is probably not going to end well.\")\n",
      "/Users/winston/anaconda3/envs/symlens/lib/python3.9/site-packages/symlens-0.3.3-py3.9.egg/symlens/factorize.py:250: UserWarning: No xmask specified; assuming all ones. This is probably not going to end well.\n",
      "  warnings.warn(\"No xmask specified; assuming all ones. This is probably not going to end well.\")\n"
     ]
    }
   ],
   "source": [
    "Nl = qe.N_l(shape, wcs, feed_dict, 'hu_ok', 'EE')\n",
    "ukappa = qe.unnormalized_quadratic_estimator(shape, wcs, feed_dict, 'hu_ok', 'EE')\n",
    "norm = qe.A_l(shape, wcs, feed_dict, 'hu_ok', 'EE') # N_l = A_L * L**2 / 4\n",
    "fkappa = norm * ukappa"
   ]
  },
  {
   "cell_type": "code",
   "execution_count": 63,
   "metadata": {},
   "outputs": [],
   "source": [
    "est_map = CMBMap(d, N, real=enmap.ifft(fkappa).real/d)"
   ]
  },
  {
   "cell_type": "code",
   "execution_count": 64,
   "metadata": {},
   "outputs": [
    {
     "data": {
      "text/plain": [
       "[<matplotlib.lines.Line2D at 0x7f84d7a11a00>]"
      ]
     },
     "execution_count": 64,
     "metadata": {},
     "output_type": "execute_result"
    },
    {
     "data": {
      "image/png": "[encoded data removed]",
      "text/plain": [
       "<Figure size 432x288 with 1 Axes>"
      ]
     },
     "metadata": {
      "needs_background": "light"
     },
     "output_type": "display_data"
    }
   ],
   "source": [
    "est_avg = est_map.binSpectrum(40)\n",
    "est_avg.plot()\n",
    "ls = modlmap[0,N//2+1:]\n",
    "plt.loglog(ls, Nl[0,N//2+1:])\n",
    "cmb.pp.plot(ls, scale=scale4)\n",
    "\n",
    "noise_interp = interp1d(ls, Nl[0,N//2+1:], bounds_error=False)\n",
    "plt.loglog(est_avg.ls, est_avg.means - noise_interp(est_avg.ls))\n"
   ]
  },
  {
   "cell_type": "code",
   "execution_count": 16,
   "metadata": {},
   "outputs": [
    {
     "data": {
      "text/plain": [
       "(800, 800)"
      ]
     },
     "execution_count": 16,
     "metadata": {},
     "output_type": "execute_result"
    }
   ],
   "source": []
  },
  {
   "cell_type": "code",
   "execution_count": null,
   "metadata": {},
   "outputs": [],
   "source": []
  }
 ],
 "metadata": {
  "interpreter": {
   "hash": "ff9495093be7338dac4ac7a1580dc4ae75e10265aca2af050d4eeb114b58d460"
  },
  "kernelspec": {
   "display_name": "Python 3.9.7 ('symlens')",
   "language": "python",
   "name": "python3"
  },
  "language_info": {
   "codemirror_mode": {
    "name": "ipython",
    "version": 3
   },
   "file_extension": ".py",
   "mimetype": "text/x-python",
   "name": "python",
   "nbconvert_exporter": "python",
   "pygments_lexer": "ipython3",
   "version": "3.9.7"
  },
  "orig_nbformat": 4
 },
 "nbformat": 4,
 "nbformat_minor": 2
}
